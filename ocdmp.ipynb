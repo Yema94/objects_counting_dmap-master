{
  "nbformat": 4,
  "nbformat_minor": 0,
  "metadata": {
    "colab": {
      "name": "ocdmp.ipynb",
      "provenance": [],
      "machine_shape": "hm",
      "collapsed_sections": [],
      "include_colab_link": true
    },
    "kernelspec": {
      "name": "python3",
      "display_name": "Python 3"
    },
    "language_info": {
      "name": "python"
    },
    "accelerator": "GPU",
    "gpuClass": "standard"
  },
  "cells": [
    {
      "cell_type": "markdown",
      "metadata": {
        "id": "view-in-github",
        "colab_type": "text"
      },
      "source": [
        "<a href=\"https://colab.research.google.com/github/raghav09111/objects_counting_dmap-master/blob/main/ocdmp.ipynb\" target=\"_parent\"><img src=\"https://colab.research.google.com/assets/colab-badge.svg\" alt=\"Open In Colab\"/></a>"
      ]
    },
    {
      "cell_type": "markdown",
      "source": [
        "To mount/add your google drive to colab"
      ],
      "metadata": {
        "id": "tlVFrgFe7enc"
      }
    },
    {
      "cell_type": "code",
      "source": [
        "from google.colab import drive\n",
        "drive.mount('/content/gdrive')"
      ],
      "metadata": {
        "id": "vIyo3yHXCFNR",
        "colab": {
          "base_uri": "https://localhost:8080/"
        },
        "outputId": "9a7908db-dfbe-4d0c-fac3-e5e0cfd3d356"
      },
      "execution_count": 1,
      "outputs": [
        {
          "output_type": "stream",
          "name": "stdout",
          "text": [
            "Mounted at /content/gdrive\n"
          ]
        }
      ]
    },
    {
      "cell_type": "markdown",
      "source": [
        "Run for the first time when you are running"
      ],
      "metadata": {
        "id": "CvxlSUU07UEU"
      }
    },
    {
      "cell_type": "code",
      "source": [
        "mkdir gdrive/MyDrive/DencityMap_Shrimps"
      ],
      "metadata": {
        "id": "vauEJaYlCQ2_"
      },
      "execution_count": null,
      "outputs": []
    },
    {
      "cell_type": "code",
      "source": [
        "cd gdrive/MyDrive/DencityMap_Shrimps"
      ],
      "metadata": {
        "id": "gXgYyXPpC39U",
        "colab": {
          "base_uri": "https://localhost:8080/"
        },
        "outputId": "afd9396a-2f97-4a78-b415-f14b8b558e84"
      },
      "execution_count": null,
      "outputs": [
        {
          "output_type": "stream",
          "name": "stdout",
          "text": [
            "/content/gdrive/MyDrive/DencityMap_Shrimps\n"
          ]
        }
      ]
    },
    {
      "cell_type": "markdown",
      "source": [
        "# First time only\n",
        "**run next 3 commands for only first time**"
      ],
      "metadata": {
        "id": "53vL1ay_50ke"
      }
    },
    {
      "cell_type": "code",
      "source": [
        "mkdir weights"
      ],
      "metadata": {
        "id": "ZYwY5LAy5MsZ"
      },
      "execution_count": null,
      "outputs": []
    },
    {
      "cell_type": "code",
      "source": [
        "mkdir logs"
      ],
      "metadata": {
        "id": "uZnBmUXx5RWY"
      },
      "execution_count": null,
      "outputs": []
    },
    {
      "cell_type": "code",
      "source": [
        "mkdir resultImages"
      ],
      "metadata": {
        "id": "iCtr8Rrd5TgT"
      },
      "execution_count": null,
      "outputs": []
    },
    {
      "cell_type": "code",
      "source": [
        "!ls"
      ],
      "metadata": {
        "id": "KOs0-SptDKnl",
        "colab": {
          "base_uri": "https://localhost:8080/"
        },
        "outputId": "cfb8e786-68f3-4fb6-ac53-e1ce818934cf"
      },
      "execution_count": null,
      "outputs": [
        {
          "output_type": "stream",
          "name": "stdout",
          "text": [
            "logs  resultImages  weights\n"
          ]
        }
      ]
    },
    {
      "cell_type": "code",
      "execution_count": null,
      "metadata": {
        "id": "cUmQoZTyDMu1",
        "colab": {
          "base_uri": "https://localhost:8080/"
        },
        "outputId": "8f319523-7242-4031-de72-72e3c8e31211"
      },
      "outputs": [
        {
          "output_type": "stream",
          "name": "stdout",
          "text": [
            "Cloning into 'objects_counting_dmap-master'...\n",
            "remote: Enumerating objects: 51, done.\u001b[K\n",
            "remote: Counting objects: 100% (51/51), done.\u001b[K\n",
            "remote: Compressing objects: 100% (51/51), done.\u001b[K\n",
            "remote: Total 51 (delta 24), reused 0 (delta 0), pack-reused 0\u001b[K\n",
            "Unpacking objects: 100% (51/51), done.\n"
          ]
        }
      ],
      "source": [
        "!git clone https://github.com/raghav09111/objects_counting_dmap-master.git"
      ]
    },
    {
      "cell_type": "code",
      "source": [
        "!pip install -r /content/gdrive/MyDrive/DencityMap_Shrimps/objects_counting_dmap-master/requirements.txt"
      ],
      "metadata": {
        "id": "Nw6wy7H6Delm"
      },
      "execution_count": null,
      "outputs": []
    },
    {
      "cell_type": "code",
      "source": [
        "!pip install wget"
      ],
      "metadata": {
        "id": "o9IGMZLVFrgH"
      },
      "execution_count": null,
      "outputs": []
    },
    {
      "cell_type": "code",
      "source": [
        "cd objects_counting_dmap-master"
      ],
      "metadata": {
        "id": "_daAOTioEV9y",
        "colab": {
          "base_uri": "https://localhost:8080/"
        },
        "outputId": "69c15e1e-c6cf-4c7a-8759-ba32682ee1e9"
      },
      "execution_count": null,
      "outputs": [
        {
          "output_type": "stream",
          "name": "stdout",
          "text": [
            "/content/gdrive/MyDrive/DencityMap_Shrimps/objects_counting_dmap-master\n"
          ]
        }
      ]
    },
    {
      "cell_type": "code",
      "source": [
        "!ls"
      ],
      "metadata": {
        "id": "bSQ2PZ0qBHSh"
      },
      "execution_count": null,
      "outputs": []
    },
    {
      "cell_type": "code",
      "source": [
        "!python /content/gdrive/MyDrive/DencityMap_Shrimps/objects_counting_dmap-master/get_data.py --dataset shrimp"
      ],
      "metadata": {
        "id": "9yx9DGP6EpCD"
      },
      "execution_count": null,
      "outputs": []
    },
    {
      "cell_type": "code",
      "source": [
        "!python /content/gdrive/MyDrive/DencityMap_Shrimps/objects_counting_dmap-master/train.py --dataset_name shrimp --network_architecture UNet -e 4"
      ],
      "metadata": {
        "colab": {
          "base_uri": "https://localhost:8080/"
        },
        "id": "8s_jkilKb6bh",
        "outputId": "47c99499-61f3-44f0-b12a-bec03840e81a"
      },
      "execution_count": null,
      "outputs": [
        {
          "output_type": "stream",
          "name": "stdout",
          "text": [
            "Epoch 1\n",
            "\n",
            "Train:\n",
            "\tAverage loss: 0.1029\n",
            "\n",
            "Valid:\n",
            "\tAverage loss: 0.1032\n",
            "\n",
            "\n",
            "New best result: 92.25680324388587\n",
            "\n",
            "--------------------------------------------------------------------------------\n",
            "\n",
            "Epoch 2\n",
            "\n",
            "Train:\n",
            "\tAverage loss: 0.0757\n",
            "\n",
            "Valid:\n",
            "\tAverage loss: 0.1032\n",
            "\n",
            "\n",
            "New best result: 45.02676375679348\n",
            "\n",
            "--------------------------------------------------------------------------------\n",
            "\n",
            "Epoch 3\n",
            "\n",
            "Train:\n",
            "\tAverage loss: 0.0734\n",
            "\n",
            "Valid:\n",
            "\tAverage loss: 0.1033\n",
            "\n",
            "\n",
            "--------------------------------------------------------------------------------\n",
            "\n",
            "Epoch 4\n",
            "\n",
            "Train:\n",
            "\tAverage loss: 0.0729\n",
            "\n",
            "Valid:\n",
            "\tAverage loss: 0.1029\n",
            "\n",
            "\n",
            "New best result: 39.85570047129755\n",
            "\n",
            "--------------------------------------------------------------------------------\n",
            "\n",
            "[Training done] Best result: 39.85570047129755\n"
          ]
        }
      ]
    },
    {
      "cell_type": "markdown",
      "source": [
        " \n",
        "# **Preffered file name format**\n",
        "\n",
        " *ex: output/output_X_Y_shrimpZ*\n",
        "\n",
        " **X- no. of epochs**\n",
        " **Y- learning rate**\n",
        " **Z- image/frame no.**\n",
        "\n",
        " **Remember to update weights(.pth file name)**\n",
        "\n",
        " ```\n",
        "-s file-name\n",
        "```\n",
        " please give a name for saving the ouput image"
      ],
      "metadata": {
        "id": "FIbL1xlkA0Sz"
      }
    },
    {
      "cell_type": "code",
      "source": [
        "!python /content/gdrive/MyDrive/DencityMap_Shrimps/objects_counting_dmap-master/infer.py -n UNet -c /content/gdrive/MyDrive/DencityMap_Shrimps/weights/shrimp_UNet_2_0.01_4.pth -i /content/gdrive/MyDrive/DencityMap_Shrimps/objects_counting_dmap-master/frames/shrimp80.jpg  --visualize -s output_2_0.01_shrimp80                      "
      ],
      "metadata": {
        "colab": {
          "base_uri": "https://localhost:8080/"
        },
        "id": "DT7hrgs_cMfU",
        "outputId": "6632756f-96c8-48cc-9071-3a47f8b88e9a"
      },
      "execution_count": null,
      "outputs": [
        {
          "output_type": "stream",
          "name": "stdout",
          "text": [
            "The number of objects found: -10.58005615234375\n"
          ]
        }
      ]
    }
  ]
}